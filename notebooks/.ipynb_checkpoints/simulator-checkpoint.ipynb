{
 "cells": [
  {
   "cell_type": "code",
   "execution_count": 3,
   "metadata": {},
   "outputs": [],
   "source": [
    "import simpy"
   ]
  },
  {
   "cell_type": "code",
   "execution_count": null,
   "metadata": {},
   "outputs": [],
   "source": []
  },
  {
   "cell_type": "code",
   "execution_count": 5,
   "metadata": {},
   "outputs": [],
   "source": [
    "VM_PROFILE_DIRECTORY = {\n",
    "    \"S\" : 1,\n",
    "    \"M\" : 2,\n",
    "    \"L\" : 4,\n",
    "    \"XL\": 8,\n",
    "}\n",
    "\n",
    "VM_DESTRUCTION_OVHERHEAD = 1\n",
    "VM_CREATION_OVERHEAD = 5"
   ]
  },
  {
   "cell_type": "code",
   "execution_count": 2,
   "metadata": {},
   "outputs": [],
   "source": []
  },
  {
   "cell_type": "code",
   "execution_count": 19,
   "metadata": {},
   "outputs": [],
   "source": [
    "class PhysicalMachine(object):\n",
    "    \n",
    "    def __init__(self, env, total_resource_capacity):\n",
    "        self.env = env\n",
    "        self.total_resources = total_resource_capacity\n",
    "        self.available_resources = simpy.Container(env, capacity=total_resource_capacity, init=total_resource_capacity)\n",
    "        self.containers = {}\n",
    "        for container_label, resource_requirement in CONTAINER_PROFILE_DIRECTORY.items():\n",
    "            max_containers = total_resource_capacity//resource_requirement\n",
    "            self.containers[container_label] = simpy.Container(env, capacity=max_containers, init=0) \n",
    "        \n",
    "        \n",
    "    def add_container(self, profile):\n",
    "        resources = container_profile_directory[profile]\n",
    "        if available_resources <= resources:\n",
    "            available_resources -= resources\n",
    "            yield self.env.timeout(CONTAINER_CREATION_OVERHEAD)\n",
    "            self.containers[\"profile\"] += 1\n",
    "    \n",
    "    def remove_container(self, profile):\n",
    "        resources = container_profile_directory[profile]\n",
    "        if self.containers[profile] > 0:\n",
    "            yield self.env.timeout(CONTAINER_DESTRUCTION_OVHERHEAD)\n",
    "            self.containers[profile] -= 1\n",
    "            self.available_resources += resources\n",
    "            \n",
    "    def schedule_job(self, job_profile, container_profile):\n",
    "        pass \n",
    "        \n",
    "            "
   ]
  },
  {
   "cell_type": "code",
   "execution_count": 9,
   "metadata": {},
   "outputs": [],
   "source": [
    "\n",
    "\n",
    "env = simpy.Environment()\n",
    "\n",
    "# pm = PhysicalMachine(env, 32)\n",
    "\n",
    "# SIM_DURATION = 100\n",
    "\n",
    "\n",
    "\n",
    "# env.run(until=SIM_DURATION)"
   ]
  },
  {
   "cell_type": "code",
   "execution_count": 11,
   "metadata": {},
   "outputs": [],
   "source": [
    "r = simpy.Resource(env)"
   ]
  },
  {
   "cell_type": "code",
   "execution_count": null,
   "metadata": {},
   "outputs": [],
   "source": []
  },
  {
   "cell_type": "code",
   "execution_count": 20,
   "metadata": {},
   "outputs": [],
   "source": [
    "pm = PhysicalMachine(env, 16)"
   ]
  },
  {
   "cell_type": "code",
   "execution_count": 30,
   "metadata": {},
   "outputs": [],
   "source": [
    "c = pm.containers['XL']"
   ]
  },
  {
   "cell_type": "code",
   "execution_count": 31,
   "metadata": {},
   "outputs": [
    {
     "data": {
      "text/plain": [
       "<ContainerPut() object at 0x2865d9f9278>"
      ]
     },
     "execution_count": 31,
     "metadata": {},
     "output_type": "execute_result"
    }
   ],
   "source": [
    "c.put(1)"
   ]
  },
  {
   "cell_type": "code",
   "execution_count": 32,
   "metadata": {},
   "outputs": [
    {
     "data": {
      "text/plain": [
       "2"
      ]
     },
     "execution_count": 32,
     "metadata": {},
     "output_type": "execute_result"
    }
   ],
   "source": [
    "c.capacity"
   ]
  },
  {
   "cell_type": "code",
   "execution_count": null,
   "metadata": {},
   "outputs": [],
   "source": []
  }
 ],
 "metadata": {
  "kernelspec": {
   "display_name": "Python 3",
   "language": "python",
   "name": "python3"
  },
  "language_info": {
   "codemirror_mode": {
    "name": "ipython",
    "version": 3
   },
   "file_extension": ".py",
   "mimetype": "text/x-python",
   "name": "python",
   "nbconvert_exporter": "python",
   "pygments_lexer": "ipython3",
   "version": "3.7.1"
  }
 },
 "nbformat": 4,
 "nbformat_minor": 2
}
