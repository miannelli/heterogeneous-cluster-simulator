{
 "cells": [
  {
   "cell_type": "code",
   "execution_count": 14,
   "metadata": {},
   "outputs": [],
   "source": [
    "import simpy"
   ]
  },
  {
   "cell_type": "code",
   "execution_count": null,
   "metadata": {},
   "outputs": [],
   "source": []
  },
  {
   "cell_type": "code",
   "execution_count": 133,
   "metadata": {},
   "outputs": [],
   "source": [
    "CONTAINER_PROFILE_DIRECTORY = {\n",
    "    \"S\" : 1,\n",
    "    \"M\" : 2,\n",
    "    \"L\" : 4,\n",
    "    \"XL\": 8,\n",
    "}\n",
    "\n",
    "CONTAINER_DESTRUCTION_OVHERHEAD = 1\n",
    "CONTAINER_CREATION_OVERHEAD = 5"
   ]
  },
  {
   "cell_type": "code",
   "execution_count": 180,
   "metadata": {},
   "outputs": [],
   "source": [
    "class Cluster(object):\n",
    "    def __init__(self, env, N, pm_capacity):\n",
    "        self.total_resources = N*pm_capacity\n",
    "        labels = (\"pm-\" + str(i) for i in range(N))\n",
    "        self.physical_machines = {label: PhysicalMachine(env, pm_capacity) for label in labels}\n",
    "        \n",
    "    def resource_utilization(self):\n",
    "        resources_utilized = sum(pm.utilized_resources.level for pm in self.physical_machines.values())\n",
    "        return resources_utilized/self.total_resources\n",
    "    \n",
    "    def schedule_job(self, job, pm, container_profile):\n",
    "        pm = self.physical_machines[pm]\n",
    "        yield env.process(pm.schedule_job(job, container_profile))\n",
    "        \n",
    "    def __select_container(resources):\n",
    "        profiles = list(CONTAINER_PROFILE_DIRECTORY.items())\n",
    "        label, capacity = profiles[0]\n",
    "        i = 0\n",
    "        while capacity < resources:\n",
    "            i+=1\n",
    "            label, capacity = profiles[i]\n",
    "            \n",
    "            "
   ]
  },
  {
   "cell_type": "code",
   "execution_count": null,
   "metadata": {},
   "outputs": [],
   "source": [
    "class JobGenerator(object):\n",
    "    \"\"\" creates jobs and places them on a job queue\"\"\"\n",
    "    pass"
   ]
  },
  {
   "cell_type": "code",
   "execution_count": 181,
   "metadata": {},
   "outputs": [],
   "source": [
    "class JobQueue(object):\n",
    "    pass"
   ]
  },
  {
   "cell_type": "code",
   "execution_count": 182,
   "metadata": {},
   "outputs": [],
   "source": [
    "class Job(object):\n",
    "    \n",
    "    def __init__(self, resources, time):\n",
    "        self.resources = resources\n",
    "        self.time = time\n",
    "        \n",
    "    def execute():\n",
    "        pass"
   ]
  },
  {
   "cell_type": "code",
   "execution_count": 192,
   "metadata": {},
   "outputs": [],
   "source": [
    "class PhysicalMachine(object):\n",
    "    \n",
    "    def __init__(self, env, total_resource_capacity):\n",
    "        self.env = env\n",
    "        self.total_resources = total_resource_capacity\n",
    "        self.available_resources = simpy.Container(env, capacity=total_resource_capacity, init=total_resource_capacity)\n",
    "        self.containers = {}\n",
    "        for container_label, resource_requirement in CONTAINER_PROFILE_DIRECTORY.items():\n",
    "            max_containers = total_resource_capacity//resource_requirement\n",
    "            self.containers[container_label] = simpy.Container(env, capacity=max_containers, init=0) \n",
    "            \n",
    "        # utilized resources is only incremented when a machine esecutes a job\n",
    "        self.utilized_resources = simpy.Container(env, capacity=total_resource_capacity, init=0)\n",
    "        \n",
    "        \n",
    "    def add_container(self, profile):\n",
    "        print(\"adding container\")\n",
    "        resources_requested = CONTAINER_PROFILE_DIRECTORY[profile]\n",
    "        if resources_requested < self.available_resources.level:\n",
    "            self.available_resources.get(resources_requested)\n",
    "            yield self.env.timeout(CONTAINER_CREATION_OVERHEAD)\n",
    "            self.containers[profile].put(1)\n",
    "        else:\n",
    "            print(\"not enough resources\")\n",
    "\n",
    "    \n",
    "    def destroy_container(self, profile):\n",
    "        if self.containers[profile].level > 0:\n",
    "            print(\"destroying container\")\n",
    "            resources_to_free = CONTAINER_PROFILE_DIRECTORY[profile]\n",
    "            yield self.env.timeout(CONTAINER_DESTRUCTION_OVHERHEAD)\n",
    "            self.containers[profile].get(1)\n",
    "            self.available_resources.put(resources_to_free)\n",
    "        else:\n",
    "            print(\"no container available\")\n",
    "            \n",
    "            \n",
    "    def schedule_job(self, job, container_profile):\n",
    "        if self.containers[container_profile].level > 0:\n",
    "            print(\"scheduling job\")\n",
    "            self.containers[container_profile].get(1)\n",
    "            self.utilized_resources.put(job.resources)\n",
    "            yield self.env.timeout(job.time)\n",
    "            print(\"completing job\")\n",
    "            self.containers[container_profile].put(1)\n",
    "            self.utilized_resources.get(job.resources)\n",
    "        else:\n",
    "            print(\"no available machines\")"
   ]
  },
  {
   "cell_type": "code",
   "execution_count": 193,
   "metadata": {},
   "outputs": [],
   "source": [
    "def resource_utilization_monitor(env, cluster, interval=10):\n",
    "    while True:\n",
    "        yield env.timeout(interval)\n",
    "        print(env.now, cluster.resource_utilization())"
   ]
  },
  {
   "cell_type": "code",
   "execution_count": 194,
   "metadata": {},
   "outputs": [],
   "source": [
    "def job_slowdown_monitor(env, cluster):\n",
    "    pass"
   ]
  },
  {
   "cell_type": "code",
   "execution_count": 201,
   "metadata": {},
   "outputs": [],
   "source": [
    "def test(env, cluster):\n",
    "    pm = cluster.physical_machines['pm-1']\n",
    "    yield env.timeout(1)\n",
    "    env.process(pm.add_container('S'))\n",
    "    yield env.timeout(1)\n",
    "    env.process(pm.add_container('XL'))\n",
    "    j1 = Job(5,95)\n",
    "    j2 = Job(1,45)\n",
    "    yield env.timeout(25)\n",
    "    \n",
    "    env.process(cluster.schedule_job(j1, 'pm-1', 'XL'))\n",
    "    yield env.timeout(35)\n",
    "    env.process(cluster.schedule_job(j2, 'pm-1', 'S'))\n",
    "    yield env.timeout(100)\n",
    "    env.process(pm.destroy_container('XL'))\n",
    "    yield env.timeout(10)\n",
    "    env.process(pm.destroy_container('S'))\n",
    "    yield env.timeout(100)\n",
    "\n"
   ]
  },
  {
   "cell_type": "code",
   "execution_count": 202,
   "metadata": {},
   "outputs": [
    {
     "name": "stdout",
     "output_type": "stream",
     "text": [
      "adding container\n",
      "adding container\n",
      "10 0.0\n",
      "20 0.0\n",
      "scheduling job\n",
      "30 0.078125\n",
      "40 0.078125\n",
      "50 0.078125\n",
      "60 0.078125\n",
      "scheduling job\n",
      "70 0.09375\n",
      "80 0.09375\n",
      "90 0.09375\n",
      "100 0.09375\n",
      "completing job\n",
      "110 0.078125\n",
      "120 0.078125\n",
      "completing job\n",
      "130 0.0\n",
      "140 0.0\n",
      "150 0.0\n",
      "160 0.0\n",
      "destroying container\n",
      "170 0.0\n",
      "destroying container\n",
      "180 0.0\n",
      "190 0.0\n",
      "200 0.0\n",
      "210 0.0\n",
      "220 0.0\n",
      "230 0.0\n",
      "240 0.0\n",
      "250 0.0\n",
      "260 0.0\n",
      "270 0.0\n",
      "280 0.0\n",
      "290 0.0\n"
     ]
    }
   ],
   "source": [
    "\n",
    "\n",
    "env = simpy.Environment()\n",
    "SIM_DURATION = 300\n",
    "cluster = Cluster(env, 2, 32)\n",
    "env.process(test(env, cluster))\n",
    "env.process(resource_utilization_monitor(env, cluster))\n",
    "env.run(until=SIM_DURATION)"
   ]
  },
  {
   "cell_type": "code",
   "execution_count": null,
   "metadata": {},
   "outputs": [],
   "source": []
  },
  {
   "cell_type": "code",
   "execution_count": null,
   "metadata": {},
   "outputs": [],
   "source": []
  },
  {
   "cell_type": "code",
   "execution_count": null,
   "metadata": {},
   "outputs": [],
   "source": []
  },
  {
   "cell_type": "code",
   "execution_count": null,
   "metadata": {},
   "outputs": [],
   "source": []
  },
  {
   "cell_type": "code",
   "execution_count": null,
   "metadata": {},
   "outputs": [],
   "source": []
  },
  {
   "cell_type": "code",
   "execution_count": 205,
   "metadata": {},
   "outputs": [
    {
     "ename": "AttributeError",
     "evalue": "'dict_items' object has no attribute 'first'",
     "output_type": "error",
     "traceback": [
      "\u001b[0;31m---------------------------------------------------------------------------\u001b[0m",
      "\u001b[0;31mAttributeError\u001b[0m                            Traceback (most recent call last)",
      "\u001b[0;32m<ipython-input-205-9732cf6fae2c>\u001b[0m in \u001b[0;36m<module>\u001b[0;34m()\u001b[0m\n\u001b[0;32m----> 1\u001b[0;31m \u001b[0mCONTAINER_PROFILE_DIRECTORY\u001b[0m\u001b[0;34m.\u001b[0m\u001b[0mitems\u001b[0m\u001b[0;34m(\u001b[0m\u001b[0;34m)\u001b[0m\u001b[0;34m.\u001b[0m\u001b[0mfirst\u001b[0m\u001b[0;34m(\u001b[0m\u001b[0;34m)\u001b[0m\u001b[0;34m\u001b[0m\u001b[0m\n\u001b[0m",
      "\u001b[0;31mAttributeError\u001b[0m: 'dict_items' object has no attribute 'first'"
     ]
    }
   ],
   "source": []
  },
  {
   "cell_type": "code",
   "execution_count": 34,
   "metadata": {},
   "outputs": [],
   "source": []
  },
  {
   "cell_type": "code",
   "execution_count": 203,
   "metadata": {},
   "outputs": [
    {
     "data": {
      "text/plain": [
       "dict_items([('S', 1), ('M', 2), ('L', 4), ('XL', 8)])"
      ]
     },
     "execution_count": 203,
     "metadata": {},
     "output_type": "execute_result"
    }
   ],
   "source": []
  },
  {
   "cell_type": "code",
   "execution_count": null,
   "metadata": {},
   "outputs": [],
   "source": []
  },
  {
   "cell_type": "code",
   "execution_count": null,
   "metadata": {},
   "outputs": [],
   "source": []
  },
  {
   "cell_type": "code",
   "execution_count": null,
   "metadata": {},
   "outputs": [],
   "source": []
  },
  {
   "cell_type": "code",
   "execution_count": null,
   "metadata": {},
   "outputs": [],
   "source": []
  },
  {
   "cell_type": "code",
   "execution_count": null,
   "metadata": {},
   "outputs": [],
   "source": []
  },
  {
   "cell_type": "code",
   "execution_count": null,
   "metadata": {},
   "outputs": [],
   "source": []
  },
  {
   "cell_type": "code",
   "execution_count": null,
   "metadata": {},
   "outputs": [],
   "source": []
  },
  {
   "cell_type": "code",
   "execution_count": null,
   "metadata": {},
   "outputs": [],
   "source": []
  },
  {
   "cell_type": "code",
   "execution_count": null,
   "metadata": {},
   "outputs": [],
   "source": []
  },
  {
   "cell_type": "code",
   "execution_count": null,
   "metadata": {},
   "outputs": [],
   "source": []
  },
  {
   "cell_type": "code",
   "execution_count": null,
   "metadata": {},
   "outputs": [],
   "source": []
  },
  {
   "cell_type": "code",
   "execution_count": null,
   "metadata": {},
   "outputs": [],
   "source": []
  },
  {
   "cell_type": "code",
   "execution_count": null,
   "metadata": {},
   "outputs": [],
   "source": []
  },
  {
   "cell_type": "code",
   "execution_count": null,
   "metadata": {},
   "outputs": [],
   "source": []
  },
  {
   "cell_type": "code",
   "execution_count": 70,
   "metadata": {},
   "outputs": [
    {
     "name": "stdout",
     "output_type": "stream",
     "text": [
      "Gas Station refuelling\n",
      "Car 0 arriving at gas station at 87.0\n",
      "Car 0 finished refueling in 18.5 seconds.\n",
      "Car 1 arriving at gas station at 129.0\n",
      "Car 1 finished refueling in 19.0 seconds.\n",
      "Car 2 arriving at gas station at 284.0\n",
      "Car 2 finished refueling in 21.0 seconds.\n",
      "Car 3 arriving at gas station at 385.0\n",
      "Car 3 finished refueling in 13.5 seconds.\n",
      "Car 4 arriving at gas station at 459.0\n",
      "Calling tank truck at 460\n",
      "Car 4 finished refueling in 22.0 seconds.\n",
      "Car 5 arriving at gas station at 705.0\n",
      "Car 6 arriving at gas station at 750.0\n",
      "Tank truck arriving at time 760\n",
      "Tank truck refuelling 188.0 liters.\n",
      "Car 6 finished refueling in 29.0 seconds.\n",
      "Car 5 finished refueling in 76.5 seconds.\n",
      "Car 7 arriving at gas station at 891.0\n",
      "Car 7 finished refueling in 13.0 seconds.\n"
     ]
    }
   ],
   "source": [
    "import itertools\n",
    "import random\n",
    "\n",
    "import simpy\n",
    "\n",
    "\n",
    "RANDOM_SEED = 42\n",
    "GAS_STATION_SIZE = 200     # liters\n",
    "THRESHOLD = 10             # Threshold for calling the tank truck (in %)\n",
    "FUEL_TANK_SIZE = 50        # liters\n",
    "FUEL_TANK_LEVEL = [5, 25]  # Min/max levels of fuel tanks (in liters)\n",
    "REFUELING_SPEED = 2        # liters / second\n",
    "TANK_TRUCK_TIME = 300      # Seconds it takes the tank truck to arrive\n",
    "T_INTER = [30, 300]        # Create a car every [min, max] seconds\n",
    "SIM_TIME = 1000            # Simulation time in seconds\n",
    "\n",
    "\n",
    "def car(name, env, gas_station, fuel_pump):\n",
    "    \"\"\"A car arrives at the gas station for refueling.\n",
    "\n",
    "    It requests one of the gas station's fuel pumps and tries to get the\n",
    "    desired amount of gas from it. If the stations reservoir is\n",
    "    depleted, the car has to wait for the tank truck to arrive.\n",
    "\n",
    "    \"\"\"\n",
    "    fuel_tank_level = random.randint(*FUEL_TANK_LEVEL)\n",
    "    print('%s arriving at gas station at %.1f' % (name, env.now))\n",
    "    with gas_station.request() as req:\n",
    "        start = env.now\n",
    "        # Request one of the gas pumps\n",
    "        yield req\n",
    "\n",
    "        # Get the required amount of fuel\n",
    "        liters_required = FUEL_TANK_SIZE - fuel_tank_level\n",
    "        yield fuel_pump.get(liters_required)\n",
    "\n",
    "        # The \"actual\" refueling process takes some time\n",
    "        yield env.timeout(liters_required / REFUELING_SPEED)\n",
    "\n",
    "        print('%s finished refueling in %.1f seconds.' % (name,\n",
    "                                                          env.now - start))\n",
    "\n",
    "\n",
    "def gas_station_control(env, fuel_pump):\n",
    "    \"\"\"Periodically check the level of the *fuel_pump* and call the tank\n",
    "    truck if the level falls below a threshold.\"\"\"\n",
    "    while True:\n",
    "        if fuel_pump.level / fuel_pump.capacity * 100 < THRESHOLD:\n",
    "            # We need to call the tank truck now!\n",
    "            print('Calling tank truck at %d' % env.now)\n",
    "            # Wait for the tank truck to arrive and refuel the station\n",
    "            yield env.process(tank_truck(env, fuel_pump))\n",
    "\n",
    "        yield env.timeout(10)  # Check every 10 seconds\n",
    "\n",
    "\n",
    "def tank_truck(env, fuel_pump):\n",
    "    \"\"\"Arrives at the gas station after a certain delay and refuels it.\"\"\"\n",
    "    yield env.timeout(TANK_TRUCK_TIME)\n",
    "    print('Tank truck arriving at time %d' % env.now)\n",
    "    ammount = fuel_pump.capacity - fuel_pump.level\n",
    "    print('Tank truck refuelling %.1f liters.' % ammount)\n",
    "    yield fuel_pump.put(ammount)\n",
    "\n",
    "\n",
    "def car_generator(env, gas_station, fuel_pump):\n",
    "    \"\"\"Generate new cars that arrive at the gas station.\"\"\"\n",
    "    for i in itertools.count():\n",
    "        yield env.timeout(random.randint(*T_INTER))\n",
    "        env.process(car('Car %d' % i, env, gas_station, fuel_pump))\n",
    "\n",
    "\n",
    "# Setup and start the simulation\n",
    "print('Gas Station refuelling')\n",
    "random.seed(RANDOM_SEED)\n",
    "\n",
    "# Create environment and start processes\n",
    "env = simpy.Environment()\n",
    "gas_station = simpy.Resource(env, 2)\n",
    "fuel_pump = simpy.Container(env, GAS_STATION_SIZE, init=GAS_STATION_SIZE)\n",
    "env.process(gas_station_control(env, fuel_pump))\n",
    "env.process(car_generator(env, gas_station, fuel_pump))\n",
    "\n",
    "# Execute!\n",
    "env.run(until=SIM_TIME)"
   ]
  },
  {
   "cell_type": "code",
   "execution_count": null,
   "metadata": {},
   "outputs": [],
   "source": []
  }
 ],
 "metadata": {
  "kernelspec": {
   "display_name": "Python 3",
   "language": "python",
   "name": "python3"
  },
  "language_info": {
   "codemirror_mode": {
    "name": "ipython",
    "version": 3
   },
   "file_extension": ".py",
   "mimetype": "text/x-python",
   "name": "python",
   "nbconvert_exporter": "python",
   "pygments_lexer": "ipython3",
   "version": "3.6.4"
  }
 },
 "nbformat": 4,
 "nbformat_minor": 2
}
