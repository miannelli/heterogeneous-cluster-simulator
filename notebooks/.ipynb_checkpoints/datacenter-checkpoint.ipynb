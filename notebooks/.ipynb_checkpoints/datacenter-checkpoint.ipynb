{
 "cells": [
  {
   "cell_type": "code",
   "execution_count": 26,
   "metadata": {},
   "outputs": [],
   "source": [
    "from __future__ import division"
   ]
  },
  {
   "cell_type": "code",
   "execution_count": 27,
   "metadata": {},
   "outputs": [],
   "source": []
  },
  {
   "cell_type": "code",
   "execution_count": 30,
   "metadata": {},
   "outputs": [],
   "source": [
    "class PhysicalMachine(object):\n",
    "    def __init__(self, name, resources):\n",
    "        self.name = name\n",
    "        # assume negligible overhead\n",
    "        self.available_resources = resources\n",
    "        self.total_resources = resources\n",
    "        self.vms = {}\n",
    "    \n",
    "    def destroy_vm(self, vm_name):\n",
    "        self.available_resources += self.vms[vm_name].resources\n",
    "        del self.vms[vm_name]\n",
    "        \n",
    "    def create_vm(self, vm_name, resources):\n",
    "        if self.available_resources >= resources:\n",
    "            new_vm = VirtualMachine(vm_name, resources)\n",
    "            self.vms[vm_name] = new_vm\n",
    "            self.available_resources -= resources\n",
    "            return Success(\"VM successfully created\")\n",
    "        else:\n",
    "            return InsufficientResourcesError()\n",
    "        \n",
    "    def resize_vm(self, vm_name, resource_delta):\n",
    "        if self.available_resources > resource_delta:\n",
    "            self.vms[vm_name] += resource_delta\n",
    "            self.available_resources \n",
    "            return Success(\"VM successfully resized\")\n",
    "        else:\n",
    "            return InsufficientResourcesError()\n",
    "        \n",
    "    \n",
    "    def get_resource_utilization_percent(self):\n",
    "        return 1 - self.available_resources/self.total_resources\n",
    "    \n",
    "    def get_resource_utilization_absolute(self):\n",
    "        return self.total_resources - self.available_resources"
   ]
  },
  {
   "cell_type": "code",
   "execution_count": 37,
   "metadata": {},
   "outputs": [
    {
     "data": {
      "text/plain": [
       "25"
      ]
     },
     "execution_count": 37,
     "metadata": {},
     "output_type": "execute_result"
    }
   ],
   "source": [
    "pm = PhysicalMachine(\"pm1\", 100)\n",
    "pm.create_vm('vm1', 25)\n",
    "pm.create_vm('vm2', 25)\n",
    "pm.create_vm('vm3', 25)\n",
    "\n",
    "pm.available_resources"
   ]
  },
  {
   "cell_type": "code",
   "execution_count": 4,
   "metadata": {},
   "outputs": [],
   "source": [
    "class VirtualMachine(object):\n",
    "    def __init__(self, name, resources):\n",
    "        self.resources = resources"
   ]
  },
  {
   "cell_type": "code",
   "execution_count": 5,
   "metadata": {},
   "outputs": [],
   "source": []
  },
  {
   "cell_type": "code",
   "execution_count": 12,
   "metadata": {},
   "outputs": [],
   "source": [
    "class DataCenter(object):\n",
    "    def __init__(self, queue):\n",
    "        self.pms = {}\n",
    "        self.job_queue = queue\n",
    "        \n",
    "    def get_resource_utilization_percent(self):\n",
    "        total_resources = sum((pm.resources for pm in self.pms.values()))\n",
    "        total_available_resources = sum((pm.available_resources for pm in self.pms.values()))\n",
    "        return 1 - total_available_resources/total_resources\n",
    "    \n",
    "    def get_smallest_capable_machine(self, resources):\n",
    "        # need trie\n",
    "        pass\n",
    "    \n",
    "    def schedule_job(self):\n",
    "        pass\n",
    "    \n",
    "    def enqueue_job(self):\n",
    "        pass\n",
    "    "
   ]
  },
  {
   "cell_type": "code",
   "execution_count": 13,
   "metadata": {},
   "outputs": [],
   "source": [
    "class Scheduler(object):\n",
    "    pass"
   ]
  },
  {
   "cell_type": "code",
   "execution_count": 14,
   "metadata": {},
   "outputs": [],
   "source": [
    "class Monitor(object):\n",
    "    pass"
   ]
  },
  {
   "cell_type": "code",
   "execution_count": 40,
   "metadata": {},
   "outputs": [
    {
     "ename": "SyntaxError",
     "evalue": "invalid syntax (<ipython-input-40-70c98e7f5c4c>, line 10)",
     "output_type": "error",
     "traceback": [
      "\u001b[0;36m  File \u001b[0;32m\"<ipython-input-40-70c98e7f5c4c>\"\u001b[0;36m, line \u001b[0;32m10\u001b[0m\n\u001b[0;31m    def __init__(self, distribution=):\u001b[0m\n\u001b[0m                                    ^\u001b[0m\n\u001b[0;31mSyntaxError\u001b[0m\u001b[0;31m:\u001b[0m invalid syntax\n"
     ]
    }
   ],
   "source": [
    "EPSILON = .001\n",
    "import numpy as np\n",
    "\n",
    "\n",
    "\n",
    "\n",
    "        \n",
    "\n",
    "    \n",
    "    "
   ]
  },
  {
   "cell_type": "code",
   "execution_count": 87,
   "metadata": {},
   "outputs": [],
   "source": [
    "class Job(object):\n",
    "    \"\"\"\n",
    "    \"\"\"\n",
    "    def __init__(self, resource_requirements, time_requirement):\n",
    "        self.resources = resources\n",
    "        self.time = time"
   ]
  },
  {
   "cell_type": "code",
   "execution_count": 3,
   "metadata": {},
   "outputs": [],
   "source": [
    "class JobGenerator(object):\n",
    "    \"\"\"\n",
    "    \"\"\"\n",
    "    def __init__(self, resource_distributions, time_distribution):\n",
    "        self.resource_distributions = resource_distributions\n",
    "        self.time_distributions = time_distribution\n",
    "        \n",
    "    def generate_job(self):\n",
    "        \"\"\"\n",
    "        \"\"\"\n",
    "        resource_requirements = {\n",
    "            resource_key: distribution() for resource_key, \n",
    "            distribution in resource_distributions.items()\n",
    "        }\n",
    "        time_requirement = self.time_distribution()\n",
    "        return Job(resource_requirements, time_requirement)\n",
    "        \n",
    "        "
   ]
  },
  {
   "cell_type": "code",
   "execution_count": 4,
   "metadata": {},
   "outputs": [],
   "source": [
    "class DiscreteMultimodalJobGenerator(JobGenerator):\n",
    "    \"\"\"\n",
    "    \"\"\"\n",
    "    def __init__(self, job_profile_weight):\n",
    "\n",
    "        distribution_functions = [lambda x: choice(jobs, p=weights) for jr, tr, w in job_profile_weight]\n",
    "        super(DiscreteMultimodalJobGenerator, self).__init__(distribution)"
   ]
  },
  {
   "cell_type": "code",
   "execution_count": 6,
   "metadata": {},
   "outputs": [],
   "source": [
    "r1 = {\n",
    "    0:5,\n",
    "    1:5\n",
    "}\n",
    "\n",
    "t1 = 5\n",
    "w1 = .8\n",
    "\n",
    "\n",
    "r2 = {\n",
    "    0:10,\n",
    "    1:10\n",
    "}\n",
    "\n",
    "t2 = 10\n",
    "w2 = .2"
   ]
  },
  {
   "cell_type": "code",
   "execution_count": 9,
   "metadata": {},
   "outputs": [
    {
     "ename": "NameError",
     "evalue": "name 'resources_weight_map' is not defined",
     "output_type": "error",
     "traceback": [
      "\u001b[1;31m---------------------------------------------------------------------------\u001b[0m",
      "\u001b[1;31mNameError\u001b[0m                                 Traceback (most recent call last)",
      "\u001b[1;32m<ipython-input-9-ef2e5ad8a85b>\u001b[0m in \u001b[0;36m<module>\u001b[1;34m\u001b[0m\n\u001b[0;32m      1\u001b[0m DiscreteMultimodalJobGenerator([\n\u001b[0;32m      2\u001b[0m     \u001b[1;33m(\u001b[0m\u001b[0mr1\u001b[0m\u001b[1;33m,\u001b[0m\u001b[0mt1\u001b[0m\u001b[1;33m,\u001b[0m\u001b[0mw1\u001b[0m\u001b[1;33m)\u001b[0m\u001b[1;33m,\u001b[0m\u001b[1;33m\u001b[0m\u001b[1;33m\u001b[0m\u001b[0m\n\u001b[1;32m----> 3\u001b[1;33m     \u001b[1;33m(\u001b[0m\u001b[0mr2\u001b[0m\u001b[1;33m,\u001b[0m\u001b[0mt2\u001b[0m\u001b[1;33m,\u001b[0m\u001b[0mw2\u001b[0m\u001b[1;33m)\u001b[0m\u001b[1;33m,\u001b[0m\u001b[1;33m\u001b[0m\u001b[1;33m\u001b[0m\u001b[0m\n\u001b[0m\u001b[0;32m      4\u001b[0m ])\n",
      "\u001b[1;32m<ipython-input-4-583814d9388e>\u001b[0m in \u001b[0;36m__init__\u001b[1;34m(self, resource_weight_map)\u001b[0m\n\u001b[0;32m      3\u001b[0m     \"\"\"\n\u001b[0;32m      4\u001b[0m     \u001b[1;32mdef\u001b[0m \u001b[0m__init__\u001b[0m\u001b[1;33m(\u001b[0m\u001b[0mself\u001b[0m\u001b[1;33m,\u001b[0m \u001b[0mresource_weight_map\u001b[0m\u001b[1;33m)\u001b[0m\u001b[1;33m:\u001b[0m\u001b[1;33m\u001b[0m\u001b[1;33m\u001b[0m\u001b[0m\n\u001b[1;32m----> 5\u001b[1;33m         \u001b[0mresources\u001b[0m\u001b[1;33m,\u001b[0m \u001b[0mweights\u001b[0m \u001b[1;33m=\u001b[0m \u001b[0mzip\u001b[0m\u001b[1;33m(\u001b[0m\u001b[1;33m*\u001b[0m\u001b[0mresources_weight_map\u001b[0m\u001b[1;33m.\u001b[0m\u001b[0mitems\u001b[0m\u001b[1;33m(\u001b[0m\u001b[1;33m)\u001b[0m\u001b[1;33m)\u001b[0m\u001b[1;33m\u001b[0m\u001b[1;33m\u001b[0m\u001b[0m\n\u001b[0m\u001b[0;32m      6\u001b[0m         \u001b[1;32mreturn\u001b[0m \u001b[0mresources\u001b[0m\u001b[1;33m,\u001b[0m \u001b[0mweights\u001b[0m\u001b[1;33m\u001b[0m\u001b[1;33m\u001b[0m\u001b[0m\n\u001b[0;32m      7\u001b[0m         \u001b[0mdistribution_functions\u001b[0m \u001b[1;33m=\u001b[0m \u001b[1;32mlambda\u001b[0m \u001b[0mx\u001b[0m\u001b[1;33m:\u001b[0m \u001b[0mchoice\u001b[0m\u001b[1;33m(\u001b[0m\u001b[0mjobs\u001b[0m\u001b[1;33m,\u001b[0m \u001b[0mp\u001b[0m\u001b[1;33m=\u001b[0m\u001b[0mweights\u001b[0m\u001b[1;33m)\u001b[0m\u001b[1;33m\u001b[0m\u001b[1;33m\u001b[0m\u001b[0m\n",
      "\u001b[1;31mNameError\u001b[0m: name 'resources_weight_map' is not defined"
     ]
    }
   ],
   "source": [
    "DiscreteMultimodalJobGenerator([\n",
    "    (r1,t1,w1),\n",
    "    (r2,t2,w2),\n",
    "])"
   ]
  },
  {
   "cell_type": "code",
   "execution_count": null,
   "metadata": {},
   "outputs": [],
   "source": []
  },
  {
   "cell_type": "code",
   "execution_count": null,
   "metadata": {},
   "outputs": [],
   "source": []
  }
 ],
 "metadata": {
  "kernelspec": {
   "display_name": "Python 3",
   "language": "python",
   "name": "python3"
  },
  "language_info": {
   "codemirror_mode": {
    "name": "ipython",
    "version": 3
   },
   "file_extension": ".py",
   "mimetype": "text/x-python",
   "name": "python",
   "nbconvert_exporter": "python",
   "pygments_lexer": "ipython3",
   "version": "3.7.1"
  }
 },
 "nbformat": 4,
 "nbformat_minor": 2
}
