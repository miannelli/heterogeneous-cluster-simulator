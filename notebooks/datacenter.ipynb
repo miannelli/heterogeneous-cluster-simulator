{
 "cells": [
  {
   "cell_type": "code",
   "execution_count": 26,
   "metadata": {},
   "outputs": [],
   "source": [
    "from __future__ import division"
   ]
  },
  {
   "cell_type": "code",
   "execution_count": 27,
   "metadata": {},
   "outputs": [],
   "source": []
  },
  {
   "cell_type": "code",
   "execution_count": 30,
   "metadata": {},
   "outputs": [],
   "source": [
    "class PhysicalMachine(object):\n",
    "    def __init__(self, name, resources):\n",
    "        self.name = name\n",
    "        # assume negligible overhead\n",
    "        self.available_resources = resources\n",
    "        self.total_resources = resources\n",
    "        self.vms = {}\n",
    "    \n",
    "    def destroy_vm(self, vm_name):\n",
    "        self.available_resources += self.vms[vm_name].resources\n",
    "        del self.vms[vm_name]\n",
    "        \n",
    "    def create_vm(self, vm_name, resources):\n",
    "        if self.available_resources >= resources:\n",
    "            new_vm = VirtualMachine(vm_name, resources)\n",
    "            self.vms[vm_name] = new_vm\n",
    "            self.available_resources -= resources\n",
    "            return Success(\"VM successfully created\")\n",
    "        else:\n",
    "            return InsufficientResourcesError()\n",
    "        \n",
    "    def resize_vm(self, vm_name, resource_delta):\n",
    "        if self.available_resources > resource_delta:\n",
    "            self.vms[vm_name] += resource_delta\n",
    "            self.available_resources \n",
    "            return Success(\"VM successfully resized\")\n",
    "        else:\n",
    "            return InsufficientResourcesError()\n",
    "        \n",
    "    \n",
    "    def get_resource_utilization_percent(self):\n",
    "        return 1 - self.available_resources/self.total_resources\n",
    "    \n",
    "    def get_resource_utilization_absolute(self):\n",
    "        return self.total_resources - self.available_resources"
   ]
  },
  {
   "cell_type": "code",
   "execution_count": 37,
   "metadata": {},
   "outputs": [
    {
     "data": {
      "text/plain": [
       "25"
      ]
     },
     "execution_count": 37,
     "metadata": {},
     "output_type": "execute_result"
    }
   ],
   "source": [
    "pm = PhysicalMachine(\"pm1\", 100)\n",
    "pm.create_vm('vm1', 25)\n",
    "pm.create_vm('vm2', 25)\n",
    "pm.create_vm('vm3', 25)\n",
    "\n",
    "pm.available_resources"
   ]
  },
  {
   "cell_type": "code",
   "execution_count": 4,
   "metadata": {},
   "outputs": [],
   "source": [
    "class VirtualMachine(object):\n",
    "    def __init__(self, name, resources):\n",
    "        self.resources = resources"
   ]
  },
  {
   "cell_type": "code",
   "execution_count": 5,
   "metadata": {},
   "outputs": [],
   "source": []
  },
  {
   "cell_type": "code",
   "execution_count": 12,
   "metadata": {},
   "outputs": [],
   "source": [
    "class DataCenter(object):\n",
    "    def __init__(self, queue):\n",
    "        self.pms = {}\n",
    "        self.job_queue = queue\n",
    "        \n",
    "    def get_resource_utilization_percent(self):\n",
    "        total_resources = sum((pm.resources for pm in self.pms.values()))\n",
    "        total_available_resources = sum((pm.available_resources for pm in self.pms.values()))\n",
    "        return 1 - total_available_resources/total_resources\n",
    "    \n",
    "    def get_smallest_capable_machine(self, resources):\n",
    "        # need trie\n",
    "        pass\n",
    "    \n",
    "    def schedule_job(self):\n",
    "        pass\n",
    "    \n",
    "    def enqueue_job(self):\n",
    "        pass\n",
    "    "
   ]
  },
  {
   "cell_type": "code",
   "execution_count": 13,
   "metadata": {},
   "outputs": [],
   "source": [
    "class Scheduler(object):\n",
    "    pass"
   ]
  },
  {
   "cell_type": "code",
   "execution_count": 14,
   "metadata": {},
   "outputs": [],
   "source": [
    "class Monitor(object):\n",
    "    pass"
   ]
  },
  {
   "cell_type": "code",
   "execution_count": 40,
   "metadata": {},
   "outputs": [
    {
     "ename": "SyntaxError",
     "evalue": "invalid syntax (<ipython-input-40-70c98e7f5c4c>, line 10)",
     "output_type": "error",
     "traceback": [
      "\u001b[0;36m  File \u001b[0;32m\"<ipython-input-40-70c98e7f5c4c>\"\u001b[0;36m, line \u001b[0;32m10\u001b[0m\n\u001b[0;31m    def __init__(self, distribution=):\u001b[0m\n\u001b[0m                                    ^\u001b[0m\n\u001b[0;31mSyntaxError\u001b[0m\u001b[0;31m:\u001b[0m invalid syntax\n"
     ]
    }
   ],
   "source": [
    "EPSILON = .001\n",
    "import numpy as np\n",
    "\n",
    "\n",
    "\n",
    "\n",
    "        \n",
    "\n",
    "    \n",
    "    "
   ]
  },
  {
   "cell_type": "code",
   "execution_count": 18,
   "metadata": {},
   "outputs": [],
   "source": [
    "class Job(object):\n",
    "    \"\"\"\n",
    "    \"\"\"\n",
    "    def __init__(self, resource_requirements, time_requirement):\n",
    "        self.resources = resources\n",
    "        self.time = time"
   ]
  },
  {
   "cell_type": "code",
   "execution_count": 19,
   "metadata": {},
   "outputs": [],
   "source": [
    "class JobGenerator(object):\n",
    "    \"\"\"\n",
    "    \"\"\"\n",
    "    def __init__(self, resource_distributions, time_distribution):\n",
    "        self.resource_distributions = resource_distributions\n",
    "        self.time_distributions = time_distribution\n",
    "        \n",
    "    def generate_job(self):\n",
    "        \"\"\"\n",
    "        \"\"\"\n",
    "        resource_requirements = {\n",
    "            resource_key: distribution() for resource_key, \n",
    "            distribution in resource_distributions.items()\n",
    "        }\n",
    "        time_requirement = self.time_distribution()\n",
    "        return Job(resource_requirements, time_requirement)\n",
    "        \n",
    "        "
   ]
  },
  {
   "cell_type": "code",
   "execution_count": 20,
   "metadata": {},
   "outputs": [],
   "source": [
    "class DiscreteMultimodalJobGenerator(JobGenerator):\n",
    "    \"\"\"\n",
    "    \"\"\"\n",
    "    def __init__(self, job_profile_weights):\n",
    "        resource_distributions\n",
    "        for resources, time, weight in job_profile_weights:\n",
    "            resource_distribution\n",
    "        \n",
    "        \n",
    "        \n",
    "        distribution_functions = [lambda x: choice(jobs, p=weights) for jr, tr, w in job_profile_weight]\n",
    "        super(DiscreteMultimodalJobGenerator, self).__init__(distribution)"
   ]
  },
  {
   "cell_type": "code",
   "execution_count": 21,
   "metadata": {},
   "outputs": [],
   "source": [
    "r1 = {\n",
    "    0:5,\n",
    "    1:5\n",
    "}\n",
    "\n",
    "t1 = 5\n",
    "w1 = .8\n",
    "\n",
    "\n",
    "r2 = {\n",
    "    0:10,\n",
    "    1:10\n",
    "}\n",
    "\n",
    "t2 = 10\n",
    "w2 = .2"
   ]
  },
  {
   "cell_type": "code",
   "execution_count": 22,
   "metadata": {},
   "outputs": [
    {
     "ename": "NameError",
     "evalue": "name 'resource_distributions' is not defined",
     "output_type": "error",
     "traceback": [
      "\u001b[1;31m---------------------------------------------------------------------------\u001b[0m",
      "\u001b[1;31mNameError\u001b[0m                                 Traceback (most recent call last)",
      "\u001b[1;32m<ipython-input-22-ef2e5ad8a85b>\u001b[0m in \u001b[0;36m<module>\u001b[1;34m\u001b[0m\n\u001b[0;32m      1\u001b[0m DiscreteMultimodalJobGenerator([\n\u001b[0;32m      2\u001b[0m     \u001b[1;33m(\u001b[0m\u001b[0mr1\u001b[0m\u001b[1;33m,\u001b[0m\u001b[0mt1\u001b[0m\u001b[1;33m,\u001b[0m\u001b[0mw1\u001b[0m\u001b[1;33m)\u001b[0m\u001b[1;33m,\u001b[0m\u001b[1;33m\u001b[0m\u001b[1;33m\u001b[0m\u001b[0m\n\u001b[1;32m----> 3\u001b[1;33m     \u001b[1;33m(\u001b[0m\u001b[0mr2\u001b[0m\u001b[1;33m,\u001b[0m\u001b[0mt2\u001b[0m\u001b[1;33m,\u001b[0m\u001b[0mw2\u001b[0m\u001b[1;33m)\u001b[0m\u001b[1;33m,\u001b[0m\u001b[1;33m\u001b[0m\u001b[1;33m\u001b[0m\u001b[0m\n\u001b[0m\u001b[0;32m      4\u001b[0m ])\n",
      "\u001b[1;32m<ipython-input-20-1721d94d615d>\u001b[0m in \u001b[0;36m__init__\u001b[1;34m(self, job_profile_weights)\u001b[0m\n\u001b[0;32m      3\u001b[0m     \"\"\"\n\u001b[0;32m      4\u001b[0m     \u001b[1;32mdef\u001b[0m \u001b[0m__init__\u001b[0m\u001b[1;33m(\u001b[0m\u001b[0mself\u001b[0m\u001b[1;33m,\u001b[0m \u001b[0mjob_profile_weights\u001b[0m\u001b[1;33m)\u001b[0m\u001b[1;33m:\u001b[0m\u001b[1;33m\u001b[0m\u001b[1;33m\u001b[0m\u001b[0m\n\u001b[1;32m----> 5\u001b[1;33m         \u001b[0mresource_distributions\u001b[0m\u001b[1;33m\u001b[0m\u001b[1;33m\u001b[0m\u001b[0m\n\u001b[0m\u001b[0;32m      6\u001b[0m         \u001b[1;32mfor\u001b[0m \u001b[0mresources\u001b[0m\u001b[1;33m,\u001b[0m \u001b[0mtime\u001b[0m\u001b[1;33m,\u001b[0m \u001b[0mweight\u001b[0m \u001b[1;32min\u001b[0m \u001b[0mjob_profile_weights\u001b[0m\u001b[1;33m:\u001b[0m\u001b[1;33m\u001b[0m\u001b[1;33m\u001b[0m\u001b[0m\n\u001b[0;32m      7\u001b[0m             \u001b[0mresource_distribution\u001b[0m\u001b[1;33m\u001b[0m\u001b[1;33m\u001b[0m\u001b[0m\n",
      "\u001b[1;31mNameError\u001b[0m: name 'resource_distributions' is not defined"
     ]
    }
   ],
   "source": [
    "DiscreteMultimodalJobGenerator([\n",
    "    (r1,t1,w1),\n",
    "    (r2,t2,w2),\n",
    "])"
   ]
  },
  {
   "cell_type": "code",
   "execution_count": null,
   "metadata": {},
   "outputs": [],
   "source": []
  },
  {
   "cell_type": "code",
   "execution_count": null,
   "metadata": {},
   "outputs": [],
   "source": []
  },
  {
   "cell_type": "code",
   "execution_count": null,
   "metadata": {},
   "outputs": [],
   "source": []
  },
  {
   "cell_type": "code",
   "execution_count": null,
   "metadata": {},
   "outputs": [],
   "source": []
  },
  {
   "cell_type": "code",
   "execution_count": 139,
   "metadata": {},
   "outputs": [],
   "source": [
    "class Job(object):\n",
    "    \"\"\" \n",
    "    A job object that encapsulates time and resource requirements\n",
    "    from an input job profile.\n",
    "    \n",
    "    input\n",
    "    \n",
    "    resource_requirements: dictionary where key = resource type and \n",
    "    value = amount of resource required to execute\n",
    "    \n",
    "    time_requirement: positive integer indicating amount of time\n",
    "    access to resources specified is required\n",
    "    \"\"\"\n",
    "    def __init__(self, resource_requirements, time_requirement):\n",
    "        self.resource_requirements = resource_requirements\n",
    "        self.time_requirement = time_requirement\n",
    "        \n",
    "    def schedule(self):\n",
    "        pass\n",
    "        \n",
    "    def execute(self):\n",
    "        pass\n",
    "    \n",
    "    def __str__(self):\n",
    "        # TODO: Implement a more user friendly display function\n",
    "        # We may also want to consider adding job IDs\n",
    "        rr = json.dumps(self.resource_requirements, indent=2)\n",
    "        tr = self.time_requirement\n",
    "        return \"job with resource requirements:\\n {0}\\n and time requirement {1}\".format(rr, tr)\n",
    "    "
   ]
  },
  {
   "cell_type": "code",
   "execution_count": 221,
   "metadata": {},
   "outputs": [],
   "source": [
    "class JobGenerator(object):\n",
    "    \"\"\"\n",
    "    A job object generator that creates jobs with resource/time\n",
    "    from a set of input distributions\n",
    "    \n",
    "    input\n",
    "    \n",
    "    resource_requirement_distributions\n",
    "    \n",
    "    time_requirement_distributions\n",
    "     \n",
    "    # Usage Example\n",
    "    jg = JobGenerator({\n",
    "        \"a\": np.random.random,\n",
    "        \"b\": lambda: 4 + np.random.random()\n",
    "        }, lambda: 10 + np.random.random())\n",
    "    \"\"\"\n",
    "    def __init__(self, resource_requirement_distributions, time_requirement_distribution):\n",
    "        self.resource_requirement_distributions = resource_requirement_distributions\n",
    "        self.time_requirement_distribution = time_requirement_distribution\n",
    "        \n",
    "    def generate_job(self):\n",
    "        resource_requirements = {\n",
    "            resource: distribution() for resource, distribution \\\n",
    "            in self.resource_requirement_distributions.items()\n",
    "        }\n",
    "        time_requirement = self.time_requirement_distribution()\n",
    "        return Job(resource_requirements, time_requirement)\n",
    "        "
   ]
  },
  {
   "cell_type": "code",
   "execution_count": 213,
   "metadata": {},
   "outputs": [],
   "source": [
    "import numpy as np"
   ]
  },
  {
   "cell_type": "code",
   "execution_count": 214,
   "metadata": {},
   "outputs": [],
   "source": [
    "class SingleJobGenerator(JobGenerator):\n",
    "    def __init__(self, resource_requirements, time_requirement):\n",
    "        rr_distribution = {\n",
    "            resource: lambda: requirement for resource, requirement in resource_requirements.items()\n",
    "        }\n",
    "        tr_distribution = lambda: time_requirement\n",
    "        \n",
    "        super(SingleJobGenerator, self).__init__(rr_distribution, tr_distribution)"
   ]
  },
  {
   "cell_type": "code",
   "execution_count": 215,
   "metadata": {},
   "outputs": [],
   "source": [
    "class MixedJobGenerator(object):\n",
    "    \"\"\"\n",
    "    creates a \n",
    "    \"\"\"\n",
    "    def __init__(self, job_generator_weight_map):\n",
    "        self.job_generators = list(job_generator_weight_map.keys())\n",
    "        self.weights = list(job_generator_weight_map.values())\n",
    "        \n",
    "    def generate_job(self):\n",
    "        # select a job generator\n",
    "        job_generator = np.random.choice(self.job_generators, p=self.weights)\n",
    "        return job_generator.generate_job()\n",
    "        "
   ]
  },
  {
   "cell_type": "code",
   "execution_count": 216,
   "metadata": {},
   "outputs": [],
   "source": [
    "def DiscreteMultimodalJobGenerator(MixedJobGenerator):\n",
    "    \"\"\"\n",
    "    A job object generator that only creates jobs with resource/time\n",
    "    requirements drawn from an input set of specific job profiles.\n",
    "    \n",
    "    This object works by emitting a weighted combination of output from\n",
    "    N job generators, each with \n",
    "    \"\"\"\n",
    "    def __init__(self, job_profiles, weights):\n",
    "        pass\n",
    "    "
   ]
  },
  {
   "cell_type": "code",
   "execution_count": 217,
   "metadata": {},
   "outputs": [],
   "source": [
    "jg1 = JobGenerator({\n",
    "    \"a\": np.random.random,\n",
    "    \"b\": lambda: 4 + np.random.random()\n",
    "    }, lambda: 10 + np.random.random())\n",
    "\n",
    "jg2 = JobGenerator({\n",
    "    \"a\": np.random.random,\n",
    "    \"b\": lambda: 24 + np.random.random()\n",
    "    }, lambda: 210 + np.random.random())"
   ]
  },
  {
   "cell_type": "code",
   "execution_count": 218,
   "metadata": {},
   "outputs": [],
   "source": [
    "mjg = MixedJobGenerator({jg1:.2, jg2:.8})"
   ]
  },
  {
   "cell_type": "code",
   "execution_count": 219,
   "metadata": {},
   "outputs": [
    {
     "ename": "UnboundLocalError",
     "evalue": "local variable 'resource_requirements' referenced before assignment",
     "output_type": "error",
     "traceback": [
      "\u001b[1;31m---------------------------------------------------------------------------\u001b[0m",
      "\u001b[1;31mUnboundLocalError\u001b[0m                         Traceback (most recent call last)",
      "\u001b[1;32m<ipython-input-219-7d2da3eb936d>\u001b[0m in \u001b[0;36m<module>\u001b[1;34m\u001b[0m\n\u001b[1;32m----> 1\u001b[1;33m \u001b[0mprint\u001b[0m\u001b[1;33m(\u001b[0m\u001b[0mmjg\u001b[0m\u001b[1;33m.\u001b[0m\u001b[0mgenerate_job\u001b[0m\u001b[1;33m(\u001b[0m\u001b[1;33m)\u001b[0m\u001b[1;33m)\u001b[0m\u001b[1;33m\u001b[0m\u001b[1;33m\u001b[0m\u001b[0m\n\u001b[0m",
      "\u001b[1;32m<ipython-input-215-fc8c79ea3fe3>\u001b[0m in \u001b[0;36mgenerate_job\u001b[1;34m(self)\u001b[0m\n\u001b[0;32m     10\u001b[0m         \u001b[1;31m# select a job generator\u001b[0m\u001b[1;33m\u001b[0m\u001b[1;33m\u001b[0m\u001b[1;33m\u001b[0m\u001b[0m\n\u001b[0;32m     11\u001b[0m         \u001b[0mjob_generator\u001b[0m \u001b[1;33m=\u001b[0m \u001b[0mnp\u001b[0m\u001b[1;33m.\u001b[0m\u001b[0mrandom\u001b[0m\u001b[1;33m.\u001b[0m\u001b[0mchoice\u001b[0m\u001b[1;33m(\u001b[0m\u001b[0mself\u001b[0m\u001b[1;33m.\u001b[0m\u001b[0mjob_generators\u001b[0m\u001b[1;33m,\u001b[0m \u001b[0mp\u001b[0m\u001b[1;33m=\u001b[0m\u001b[0mself\u001b[0m\u001b[1;33m.\u001b[0m\u001b[0mweights\u001b[0m\u001b[1;33m)\u001b[0m\u001b[1;33m\u001b[0m\u001b[1;33m\u001b[0m\u001b[0m\n\u001b[1;32m---> 12\u001b[1;33m         \u001b[1;32mreturn\u001b[0m \u001b[0mjob_generator\u001b[0m\u001b[1;33m.\u001b[0m\u001b[0mgenerate_job\u001b[0m\u001b[1;33m(\u001b[0m\u001b[1;33m)\u001b[0m\u001b[1;33m\u001b[0m\u001b[1;33m\u001b[0m\u001b[0m\n\u001b[0m\u001b[0;32m     13\u001b[0m \u001b[1;33m\u001b[0m\u001b[0m\n",
      "\u001b[1;32m<ipython-input-212-3626ff7c0614>\u001b[0m in \u001b[0;36mgenerate_job\u001b[1;34m(self)\u001b[0m\n\u001b[0;32m     21\u001b[0m \u001b[1;33m\u001b[0m\u001b[0m\n\u001b[0;32m     22\u001b[0m     \u001b[1;32mdef\u001b[0m \u001b[0mgenerate_job\u001b[0m\u001b[1;33m(\u001b[0m\u001b[0mself\u001b[0m\u001b[1;33m)\u001b[0m\u001b[1;33m:\u001b[0m\u001b[1;33m\u001b[0m\u001b[1;33m\u001b[0m\u001b[0m\n\u001b[1;32m---> 23\u001b[1;33m         \u001b[0mprint\u001b[0m\u001b[1;33m(\u001b[0m\u001b[0mresource_requirements\u001b[0m\u001b[1;33m.\u001b[0m\u001b[0mvalues\u001b[0m\u001b[1;33m(\u001b[0m\u001b[1;33m)\u001b[0m\u001b[1;33m)\u001b[0m\u001b[1;33m\u001b[0m\u001b[1;33m\u001b[0m\u001b[0m\n\u001b[0m\u001b[0;32m     24\u001b[0m         resource_requirements = {\n\u001b[0;32m     25\u001b[0m             \u001b[0mresource\u001b[0m\u001b[1;33m:\u001b[0m \u001b[0mdistribution\u001b[0m\u001b[1;33m(\u001b[0m\u001b[1;33m)\u001b[0m \u001b[1;32mfor\u001b[0m \u001b[0mresource\u001b[0m\u001b[1;33m,\u001b[0m \u001b[0mdistribution\u001b[0m\u001b[0;31m \u001b[0m\u001b[0;31m\\\u001b[0m\u001b[1;33m\u001b[0m\u001b[1;33m\u001b[0m\u001b[0m\n",
      "\u001b[1;31mUnboundLocalError\u001b[0m: local variable 'resource_requirements' referenced before assignment"
     ]
    }
   ],
   "source": [
    "print(mjg.generate_job())"
   ]
  },
  {
   "cell_type": "code",
   "execution_count": 220,
   "metadata": {},
   "outputs": [],
   "source": [
    "jg = SingleJobGenerator({'a':10, 'b':5}, 3)"
   ]
  },
  {
   "cell_type": "code",
   "execution_count": 211,
   "metadata": {},
   "outputs": [
    {
     "data": {
      "text/plain": [
       "{'a': 5, 'b': 5}"
      ]
     },
     "execution_count": 211,
     "metadata": {},
     "output_type": "execute_result"
    }
   ],
   "source": [
    "jg.generate_job().resource_requirements"
   ]
  },
  {
   "cell_type": "code",
   "execution_count": 203,
   "metadata": {},
   "outputs": [
    {
     "ename": "AttributeError",
     "evalue": "'Job' object has no attribute 'generate_job'",
     "output_type": "error",
     "traceback": [
      "\u001b[1;31m---------------------------------------------------------------------------\u001b[0m",
      "\u001b[1;31mAttributeError\u001b[0m                            Traceback (most recent call last)",
      "\u001b[1;32m<ipython-input-203-0a734510a15a>\u001b[0m in \u001b[0;36m<module>\u001b[1;34m\u001b[0m\n\u001b[1;32m----> 1\u001b[1;33m \u001b[0mj\u001b[0m\u001b[1;33m.\u001b[0m\u001b[0mgenerate_job\u001b[0m\u001b[1;33m(\u001b[0m\u001b[1;33m)\u001b[0m\u001b[1;33m\u001b[0m\u001b[1;33m\u001b[0m\u001b[0m\n\u001b[0m",
      "\u001b[1;31mAttributeError\u001b[0m: 'Job' object has no attribute 'generate_job'"
     ]
    }
   ],
   "source": []
  },
  {
   "cell_type": "code",
   "execution_count": null,
   "metadata": {},
   "outputs": [],
   "source": []
  },
  {
   "cell_type": "code",
   "execution_count": null,
   "metadata": {},
   "outputs": [],
   "source": []
  },
  {
   "cell_type": "code",
   "execution_count": null,
   "metadata": {},
   "outputs": [],
   "source": []
  },
  {
   "cell_type": "code",
   "execution_count": null,
   "metadata": {},
   "outputs": [],
   "source": []
  },
  {
   "cell_type": "code",
   "execution_count": null,
   "metadata": {},
   "outputs": [],
   "source": []
  },
  {
   "cell_type": "code",
   "execution_count": null,
   "metadata": {},
   "outputs": [],
   "source": []
  },
  {
   "cell_type": "code",
   "execution_count": null,
   "metadata": {},
   "outputs": [],
   "source": []
  },
  {
   "cell_type": "code",
   "execution_count": null,
   "metadata": {},
   "outputs": [],
   "source": []
  },
  {
   "cell_type": "code",
   "execution_count": null,
   "metadata": {},
   "outputs": [],
   "source": []
  },
  {
   "cell_type": "code",
   "execution_count": 222,
   "metadata": {},
   "outputs": [
    {
     "ename": "SyntaxError",
     "evalue": "invalid syntax (<ipython-input-222-36d9a5ca0e52>, line 1)",
     "output_type": "error",
     "traceback": [
      "\u001b[1;36m  File \u001b[1;32m\"<ipython-input-222-36d9a5ca0e52>\"\u001b[1;36m, line \u001b[1;32m1\u001b[0m\n\u001b[1;33m    def JobScheduler\u001b[0m\n\u001b[1;37m                    ^\u001b[0m\n\u001b[1;31mSyntaxError\u001b[0m\u001b[1;31m:\u001b[0m invalid syntax\n"
     ]
    }
   ],
   "source": [
    "def JobScheduler"
   ]
  },
  {
   "cell_type": "code",
   "execution_count": null,
   "metadata": {},
   "outputs": [],
   "source": []
  },
  {
   "cell_type": "code",
   "execution_count": null,
   "metadata": {},
   "outputs": [],
   "source": []
  },
  {
   "cell_type": "code",
   "execution_count": 2,
   "metadata": {},
   "outputs": [],
   "source": []
  },
  {
   "cell_type": "code",
   "execution_count": 3,
   "metadata": {},
   "outputs": [],
   "source": [
    "env = simpy.Environment()"
   ]
  },
  {
   "cell_type": "code",
   "execution_count": null,
   "metadata": {},
   "outputs": [],
   "source": []
  },
  {
   "cell_type": "code",
   "execution_count": null,
   "metadata": {},
   "outputs": [],
   "source": []
  },
  {
   "cell_type": "code",
   "execution_count": null,
   "metadata": {},
   "outputs": [],
   "source": [
    "class ContainerizedWorker(object):\n",
    "    \n",
    "    def __init__(self, env, resource_capacities):\n",
    "        self.env = env\n",
    "        self.resource_capacities = resource_capacities\n",
    "        \n",
    "    def execute(self, job):\n",
    "        # start job hooks\n",
    "        yield env.timeout(job.time_requirement)\n",
    "        \n",
    "        #end job hooks\n",
    "        # "
   ]
  },
  {
   "cell_type": "code",
   "execution_count": null,
   "metadata": {},
   "outputs": [],
   "source": []
  },
  {
   "cell_type": "code",
   "execution_count": null,
   "metadata": {},
   "outputs": [],
   "source": []
  },
  {
   "cell_type": "code",
   "execution_count": 4,
   "metadata": {},
   "outputs": [],
   "source": [
    "def worker(env, job, ):\n",
    "    while True:\n",
    "        # wait for next transmission\n",
    "        yield env.timeout(5)\n",
    "        cable.put('Sender sent this at %d' % env.now)"
   ]
  },
  {
   "cell_type": "code",
   "execution_count": null,
   "metadata": {},
   "outputs": [],
   "source": []
  },
  {
   "cell_type": "code",
   "execution_count": null,
   "metadata": {},
   "outputs": [],
   "source": []
  },
  {
   "cell_type": "code",
   "execution_count": null,
   "metadata": {},
   "outputs": [],
   "source": []
  },
  {
   "cell_type": "code",
   "execution_count": 6,
   "metadata": {},
   "outputs": [],
   "source": [
    "# Container Profiles\n",
    "class ContainerProfile(object):\n",
    "    def __init__(self, resources):\n",
    "        self.resources = resources\n",
    "        \n",
    "class SmallContainerProfile(ContainerProfile):\n",
    "    def __init__(self):\n",
    "        super(SmallContainerProfile, self).__init__(1)\n",
    "        \n",
    "class MediumContainerProfile(ContainerProfile):\n",
    "    def __init__(self):\n",
    "        super(MediumContainerProfile, self).__init__(2)\n",
    "        \n",
    "class LargeContainerProfile(ContainerProfile):\n",
    "    def __init__(self):\n",
    "        super(LargeContainerProfile, self).__init__(4)\n",
    "        \n",
    "class ExtraLargeContainerProfile(ContainerProfile):\n",
    "    def __init__(self):\n",
    "        super(ExtraLargeContainerProfile, self).__init__(8)"
   ]
  },
  {
   "cell_type": "code",
   "execution_count": null,
   "metadata": {},
   "outputs": [],
   "source": []
  },
  {
   "cell_type": "code",
   "execution_count": 31,
   "metadata": {},
   "outputs": [],
   "source": []
  },
  {
   "cell_type": "code",
   "execution_count": null,
   "metadata": {},
   "outputs": [],
   "source": []
  },
  {
   "cell_type": "code",
   "execution_count": 34,
   "metadata": {},
   "outputs": [],
   "source": []
  },
  {
   "cell_type": "code",
   "execution_count": 29,
   "metadata": {},
   "outputs": [],
   "source": [
    "env = simpy.Environment()\n",
    "r = PhysicalMachine(env, 100)"
   ]
  },
  {
   "cell_type": "code",
   "execution_count": 30,
   "metadata": {},
   "outputs": [
    {
     "data": {
      "text/plain": [
       "<__main__.PhysicalMachine at 0x1d82f268ef0>"
      ]
     },
     "execution_count": 30,
     "metadata": {},
     "output_type": "execute_result"
    }
   ],
   "source": [
    "r."
   ]
  },
  {
   "cell_type": "code",
   "execution_count": null,
   "metadata": {},
   "outputs": [],
   "source": []
  }
 ],
 "metadata": {
  "kernelspec": {
   "display_name": "Python 3",
   "language": "python",
   "name": "python3"
  },
  "language_info": {
   "codemirror_mode": {
    "name": "ipython",
    "version": 3
   },
   "file_extension": ".py",
   "mimetype": "text/x-python",
   "name": "python",
   "nbconvert_exporter": "python",
   "pygments_lexer": "ipython3",
   "version": "3.7.3"
  }
 },
 "nbformat": 4,
 "nbformat_minor": 2
}
