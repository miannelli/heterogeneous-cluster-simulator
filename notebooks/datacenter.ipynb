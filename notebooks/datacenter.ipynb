{
 "cells": [
  {
   "cell_type": "code",
   "execution_count": 26,
   "metadata": {},
   "outputs": [],
   "source": [
    "from __future__ import division"
   ]
  },
  {
   "cell_type": "code",
   "execution_count": 27,
   "metadata": {},
   "outputs": [],
   "source": []
  },
  {
   "cell_type": "code",
   "execution_count": 30,
   "metadata": {},
   "outputs": [],
   "source": [
    "class PhysicalMachine(object):\n",
    "    def __init__(self, name, resources):\n",
    "        self.name = name\n",
    "        # assume negligible overhead\n",
    "        self.available_resources = resources\n",
    "        self.total_resources = resources\n",
    "        self.vms = {}\n",
    "    \n",
    "    def destroy_vm(self, vm_name):\n",
    "        self.available_resources += self.vms[vm_name].resources\n",
    "        del self.vms[vm_name]\n",
    "        \n",
    "    def create_vm(self, vm_name, resources):\n",
    "        if self.available_resources >= resources:\n",
    "            new_vm = VirtualMachine(vm_name, resources)\n",
    "            self.vms[vm_name] = new_vm\n",
    "            self.available_resources -= resources\n",
    "            return Success(\"VM successfully created\")\n",
    "        else:\n",
    "            return InsufficientResourcesError()\n",
    "        \n",
    "    def resize_vm(self, vm_name, resource_delta):\n",
    "        if self.available_resources > resource_delta:\n",
    "            self.vms[vm_name] += resource_delta\n",
    "            self.available_resources \n",
    "            return Success(\"VM successfully resized\")\n",
    "        else:\n",
    "            return InsufficientResourcesError()\n",
    "        \n",
    "    \n",
    "    def get_resource_utilization_percent(self):\n",
    "        return 1 - self.available_resources/self.total_resources\n",
    "    \n",
    "    def get_resource_utilization_absolute(self):\n",
    "        return self.total_resources - self.available_resources"
   ]
  },
  {
   "cell_type": "code",
   "execution_count": 37,
   "metadata": {},
   "outputs": [
    {
     "data": {
      "text/plain": [
       "25"
      ]
     },
     "execution_count": 37,
     "metadata": {},
     "output_type": "execute_result"
    }
   ],
   "source": [
    "pm = PhysicalMachine(\"pm1\", 100)\n",
    "pm.create_vm('vm1', 25)\n",
    "pm.create_vm('vm2', 25)\n",
    "pm.create_vm('vm3', 25)\n",
    "\n",
    "pm.available_resources"
   ]
  },
  {
   "cell_type": "code",
   "execution_count": 4,
   "metadata": {},
   "outputs": [],
   "source": [
    "class VirtualMachine(object):\n",
    "    def __init__(self, name, resources):\n",
    "        self.resources = resources"
   ]
  },
  {
   "cell_type": "code",
   "execution_count": 5,
   "metadata": {},
   "outputs": [],
   "source": []
  },
  {
   "cell_type": "code",
   "execution_count": 12,
   "metadata": {},
   "outputs": [],
   "source": [
    "class DataCenter(object):\n",
    "    def __init__(self, queue):\n",
    "        self.pms = {}\n",
    "        self.job_queue = queue\n",
    "        \n",
    "    def get_resource_utilization_percent(self):\n",
    "        total_resources = sum((pm.resources for pm in self.pms.values()))\n",
    "        total_available_resources = sum((pm.available_resources for pm in self.pms.values()))\n",
    "        return 1 - total_available_resources/total_resources\n",
    "    \n",
    "    def get_smallest_capable_machine(self, resources):\n",
    "        # need trie\n",
    "        pass\n",
    "    \n",
    "    def schedule_job(self):\n",
    "        pass\n",
    "    \n",
    "    def enqueue_job(self):\n",
    "        pass\n",
    "    "
   ]
  },
  {
   "cell_type": "code",
   "execution_count": 13,
   "metadata": {},
   "outputs": [],
   "source": [
    "class Scheduler(object):\n",
    "    pass"
   ]
  },
  {
   "cell_type": "code",
   "execution_count": 14,
   "metadata": {},
   "outputs": [],
   "source": [
    "class Monitor(object):\n",
    "    pass"
   ]
  },
  {
   "cell_type": "code",
   "execution_count": 40,
   "metadata": {},
   "outputs": [
    {
     "ename": "SyntaxError",
     "evalue": "invalid syntax (<ipython-input-40-70c98e7f5c4c>, line 10)",
     "output_type": "error",
     "traceback": [
      "\u001b[0;36m  File \u001b[0;32m\"<ipython-input-40-70c98e7f5c4c>\"\u001b[0;36m, line \u001b[0;32m10\u001b[0m\n\u001b[0;31m    def __init__(self, distribution=):\u001b[0m\n\u001b[0m                                    ^\u001b[0m\n\u001b[0;31mSyntaxError\u001b[0m\u001b[0;31m:\u001b[0m invalid syntax\n"
     ]
    }
   ],
   "source": [
    "EPSILON = .001\n",
    "import numpy as np\n",
    "\n",
    "\n",
    "\n",
    "\n",
    "        \n",
    "\n",
    "    \n",
    "    "
   ]
  },
  {
   "cell_type": "code",
   "execution_count": 87,
   "metadata": {},
   "outputs": [],
   "source": [
    "class Job(object):\n",
    "    def __init__(self, resource_requirements, time_requirement):\n",
    "        self.resources = resources\n",
    "        self.time = time"
   ]
  },
  {
   "cell_type": "code",
   "execution_count": 72,
   "metadata": {},
   "outputs": [],
   "source": [
    "class JobGenerator(object):\n",
    "    def __init__(self, resource_distributions, time_distribution):\n",
    "        self.resource_distributions = resource_distributions\n",
    "        self.time_distributions = time_distribution\n",
    "        \n",
    "    def generate_job(self):\n",
    "        resource_requirements = \n",
    "        "
   ]
  },
  {
   "cell_type": "code",
   "execution_count": 86,
   "metadata": {},
   "outputs": [],
   "source": [
    "class DiscreteMultimodalJobGenerator(JobGenerator):\n",
    "    def __init__(self, job_weight_map):\n",
    "        jobs, weights = zip(*job_weight_map.items())\n",
    "        distribution = choice(jobs, p=weights)\n",
    "        super(DiscreteMultimodalJobGenerator, self).__init__(distribution)"
   ]
  },
  {
   "cell_type": "code",
   "execution_count": 76,
   "metadata": {},
   "outputs": [
    {
     "data": {
      "text/plain": [
       "8"
      ]
     },
     "execution_count": 76,
     "metadata": {},
     "output_type": "execute_result"
    }
   ],
   "source": [
    "jg = DiscreteMultimodalJobGenerator({5:})"
   ]
  },
  {
   "cell_type": "code",
   "execution_count": 79,
   "metadata": {},
   "outputs": [],
   "source": [
    "a = {1:1,2:2,3:3}"
   ]
  },
  {
   "cell_type": "code",
   "execution_count": 82,
   "metadata": {},
   "outputs": [
    {
     "data": {
      "text/plain": [
       "[(1, 2, 3), (1, 2, 3)]"
      ]
     },
     "execution_count": 82,
     "metadata": {},
     "output_type": "execute_result"
    }
   ],
   "source": [
    "distribution=lambda: np.random.randint(10)\n"
   ]
  },
  {
   "cell_type": "code",
   "execution_count": null,
   "metadata": {},
   "outputs": [],
   "source": []
  }
 ],
 "metadata": {
  "kernelspec": {
   "display_name": "Python 3",
   "language": "python",
   "name": "python3"
  },
  "language_info": {
   "codemirror_mode": {
    "name": "ipython",
    "version": 3
   },
   "file_extension": ".py",
   "mimetype": "text/x-python",
   "name": "python",
   "nbconvert_exporter": "python",
   "pygments_lexer": "ipython3",
   "version": "3.6.8"
  }
 },
 "nbformat": 4,
 "nbformat_minor": 2
}
