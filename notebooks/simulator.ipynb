{
 "cells": [
  {
   "cell_type": "code",
   "execution_count": 1,
   "metadata": {},
   "outputs": [],
   "source": [
    "import simpy"
   ]
  },
  {
   "cell_type": "code",
   "execution_count": 22,
   "metadata": {},
   "outputs": [],
   "source": [
    "class Agent(object):\n",
    "    pass"
   ]
  },
  {
   "cell_type": "code",
   "execution_count": 6,
   "metadata": {},
   "outputs": [],
   "source": [
    "container_profile_directory = {\n",
    "    \"S\" : 1,\n",
    "    \"M\" : 2,\n",
    "    \"L\" : 4,\n",
    "    \"XL\": 8,\n",
    "}\n",
    "\n",
    "CONTAINER_DESTRUCTION_OVHERHEAD = 1\n",
    "CONTAINER_CREATION_OVERHEAD = 5"
   ]
  },
  {
   "cell_type": "code",
   "execution_count": null,
   "metadata": {},
   "outputs": [],
   "source": []
  },
  {
   "cell_type": "code",
   "execution_count": 11,
   "metadata": {},
   "outputs": [],
   "source": [
    "class PhysicalMachine(object):\n",
    "    \n",
    "    def __init__(self, env, total_resource_capacity):\n",
    "        self.env = env\n",
    "        self.resources = simpy.Resource(env, capacity=total_resource_capacity)\n",
    "        self.total_resources = total_resource_capacity\n",
    "        self.available_resources = total_resource_capacity\n",
    "        self.containers = {\n",
    "            \"S\" : 0,\n",
    "            \"M\" : 0,\n",
    "            \"L\" : 0,\n",
    "            \"XL\": 0,\n",
    "        }\n",
    "        \n",
    "\n",
    "    def add_container(self, profile):\n",
    "        resources = container_profile_directory[profile]\n",
    "        if available_resources <= resources:\n",
    "            available_resources -= resources\n",
    "            yield self.env.timeout(CONTAINER_CREATION_OVERHEAD)\n",
    "            self.containers[\"profile\"] += 1\n",
    "    \n",
    "    def remove_container(self, profile):\n",
    "        resources = container_profile_directory[profile]\n",
    "        if self.containers[profile] > 0:\n",
    "            yield self.env.timeout(CONTAINER_DESTRUCTION_OVHERHEAD)\n",
    "            self.containers[profile] -= 1\n",
    "            self.available_resources += resources\n",
    "            \n",
    "    def schedule_job(self, job, container_profile):\n",
    "        pass \n",
    "        \n",
    "            "
   ]
  },
  {
   "cell_type": "code",
   "execution_count": 21,
   "metadata": {},
   "outputs": [],
   "source": [
    "\n",
    "\n",
    "env = simpy.Environment()\n",
    "\n",
    "pm = PhysicalMachine(env, 32)\n",
    "\n",
    "SIM_DURATION = 100\n",
    "\n",
    "\n",
    "\n",
    "env.run(until=SIM_DURATION)"
   ]
  },
  {
   "cell_type": "code",
   "execution_count": null,
   "metadata": {},
   "outputs": [],
   "source": [
    "simpy.Resource(env, )"
   ]
  }
 ],
 "metadata": {
  "kernelspec": {
   "display_name": "Python 3",
   "language": "python",
   "name": "python3"
  },
  "language_info": {
   "codemirror_mode": {
    "name": "ipython",
    "version": 3
   },
   "file_extension": ".py",
   "mimetype": "text/x-python",
   "name": "python",
   "nbconvert_exporter": "python",
   "pygments_lexer": "ipython3",
   "version": "3.7.3"
  }
 },
 "nbformat": 4,
 "nbformat_minor": 2
}
