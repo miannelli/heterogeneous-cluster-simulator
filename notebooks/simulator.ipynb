{
 "cells": [
  {
   "cell_type": "code",
   "execution_count": 178,
   "metadata": {},
   "outputs": [],
   "source": [
    "import simpy\n",
    "import numpy as np\n",
    "from collections import deque"
   ]
  },
  {
   "cell_type": "code",
   "execution_count": null,
   "metadata": {},
   "outputs": [],
   "source": []
  },
  {
   "cell_type": "code",
   "execution_count": 179,
   "metadata": {},
   "outputs": [],
   "source": [
    "CONTAINER_PROFILE_DIRECTORY = {\n",
    "    \"S\" : 1,\n",
    "    \"M\" : 2,\n",
    "    \"L\" : 4,\n",
    "    \"XL\": 8,\n",
    "}\n",
    "\n",
    "CONTAINER_DESTRUCTION_OVHERHEAD = 1\n",
    "CONTAINER_CREATION_OVERHEAD = 5"
   ]
  },
  {
   "cell_type": "code",
   "execution_count": 180,
   "metadata": {},
   "outputs": [],
   "source": [
    "class Datacenter(object):\n",
    "    \"\"\"Encapsualtes a cluster, its cluster monitor, and job scheduler\"\"\"\n",
    "    \n",
    "    def __init__(self, env, cluster):\n",
    "        pass"
   ]
  },
  {
   "cell_type": "code",
   "execution_count": 181,
   "metadata": {},
   "outputs": [],
   "source": [
    "class Cluster(object):\n",
    "    def __init__(self, env, N, pm_capacity, job_generator):\n",
    "        self.total_resources = N*pm_capacity\n",
    "        labels = (\"pm-\" + str(i) for i in range(N))\n",
    "        self.physical_machines = {label: PhysicalMachine(env, pm_capacity) for label in labels}\n",
    "        self.job_generator = job_generator\n",
    "        \n",
    "    def resource_utilization(self):\n",
    "        resources_utilized = sum(pm.utilized_resources.level for pm in self.physical_machines.values())\n",
    "        return resources_utilized/self.total_resources\n",
    "    \n",
    "    def schedule_job(self, job_index, pm, container_profile):\n",
    "        job = self.job_generator.job_queue.buffer[job_index]\n",
    "        pm = self.physical_machines[pm]\n",
    "        yield env.process(pm.schedule_job(job, container_profile))\n",
    "        self.job_generator.enqueue_job(job_index)\n",
    "        \n",
    "    def vectorize(self):\n",
    "        return np.hstack([pm.vectorize() for pm in self.physical_machines.values()])"
   ]
  },
  {
   "cell_type": "code",
   "execution_count": null,
   "metadata": {},
   "outputs": [],
   "source": []
  },
  {
   "cell_type": "code",
   "execution_count": 182,
   "metadata": {},
   "outputs": [],
   "source": [
    "class JobQueue(object):\n",
    "    def __init__(self, env, buffer_size):\n",
    "        self.buffer_size = buffer_size\n",
    "        self.buffer = [None]*buffer_size\n",
    "        \n",
    "    def vectorize(self):\n",
    "        job_profile_vectors = np.array([job.vectorize() for job in self.buffer])\n",
    "        return np.hstack(job_profile_vectors)\n",
    "\n",
    "        \n",
    "class JobGenerator(object):\n",
    "    \"\"\" creates jobs and places them on a job queue\"\"\"\n",
    "    def __init__(self, env, job_queue_size, job_profiles, weights):\n",
    "        self.env = env\n",
    "        self.job_profiles = job_profiles\n",
    "        self.weights = weights\n",
    "        self.job_queue_size = job_queue_size\n",
    "        self.job_queue = JobQueue(env, job_queue_size)\n",
    "        for i in range(job_queue_size):\n",
    "            self.job_queue[i] = self.generate_job()\n",
    "        \n",
    "    \n",
    "    def generate_job(self):\n",
    "        return np.random.choice(self.job_profiles, p=self.weights)\n",
    "    \n",
    "    def enqueue_job(self, job_index):\n",
    "        new_job = self.generate_job()\n",
    "        new_job.enqueue()\n",
    "        self.job_queue.buffer[job_index] = new_job\n",
    "\n",
    "        \n",
    "            "
   ]
  },
  {
   "cell_type": "code",
   "execution_count": 183,
   "metadata": {},
   "outputs": [],
   "source": [
    "class Log(simpy.Store):\n",
    "    pass"
   ]
  },
  {
   "cell_type": "code",
   "execution_count": 184,
   "metadata": {},
   "outputs": [],
   "source": [
    "class Job(object):\n",
    "    \n",
    "    def __init__(self, resources, time, log):\n",
    "        self.resources = resources\n",
    "        self.time = time\n",
    "        self.log = log\n",
    "    \n",
    "    def enqueue(self):\n",
    "        self.start = self.env.now\n",
    "    \n",
    "    def execute(self):\n",
    "        delay = self.env.now - self.start\n",
    "        job_slowdown = (delay + self.time)/self.time\n",
    "        self.log.put(job_slowdown)\n",
    "        \n",
    "    def vectorize(self):\n",
    "        return np.array([self.resource, self.time])"
   ]
  },
  {
   "cell_type": "code",
   "execution_count": 185,
   "metadata": {},
   "outputs": [],
   "source": [
    "class PhysicalMachine(object):\n",
    "    \n",
    "    def __init__(self, env, total_resource_capacity):\n",
    "        self.env = env\n",
    "        self.total_resources = total_resource_capacity\n",
    "        self.available_resources = simpy.Container(env, capacity=total_resource_capacity, init=total_resource_capacity)\n",
    "        self.containers = {}\n",
    "        for container_label, resource_requirement in CONTAINER_PROFILE_DIRECTORY.items():\n",
    "            max_containers = total_resource_capacity//resource_requirement\n",
    "            self.containers[container_label] = simpy.Container(env, capacity=max_containers, init=0) \n",
    "            \n",
    "        # utilized resources is only incremented when a machine esecutes a job\n",
    "        self.utilized_resources = simpy.Container(env, capacity=total_resource_capacity, init=0)\n",
    "        \n",
    "        \n",
    "    def add_container(self, profile):\n",
    "        print(\"adding container\")\n",
    "        resources_requested = CONTAINER_PROFILE_DIRECTORY[profile]\n",
    "        if resources_requested < self.available_resources.level:\n",
    "            self.available_resources.get(resources_requested)\n",
    "            yield self.env.timeout(CONTAINER_CREATION_OVERHEAD)\n",
    "            self.containers[profile].put(1)\n",
    "        else:\n",
    "            print(\"not enough resources\")\n",
    "\n",
    "    \n",
    "    def destroy_container(self, profile):\n",
    "        if self.containers[profile].level > 0:\n",
    "            print(\"destroying container\")\n",
    "            resources_to_free = CONTAINER_PROFILE_DIRECTORY[profile]\n",
    "            yield self.env.timeout(CONTAINER_DESTRUCTION_OVHERHEAD)\n",
    "            self.containers[profile].get(1)\n",
    "            self.available_resources.put(resources_to_free)\n",
    "        else:\n",
    "            print(\"no container available\")\n",
    "            \n",
    "            \n",
    "    def schedule_job(self, job, container_profile):\n",
    "        if self.containers[container_profile].level > 0:\n",
    "            print(\"scheduling job\")\n",
    "            self.containers[container_profile].get(1)\n",
    "            self.utilized_resources.put(job.resources)\n",
    "            yield self.env.timeout(job.time)\n",
    "            print(\"completing job\")\n",
    "            self.containers[container_profile].put(1)\n",
    "            self.utilized_resources.get(job.resources)\n",
    "        else:\n",
    "            print(\"no available machines\")\n",
    "            \n",
    "    def vectorize(self):\n",
    "        levels = [container.level for container in self.containers.values()]\n",
    "        return np.array(levels)"
   ]
  },
  {
   "cell_type": "code",
   "execution_count": 186,
   "metadata": {},
   "outputs": [],
   "source": [
    "# def resource_utilization_monitor(env, cluster, interval=10):\n",
    "#     while True:\n",
    "#         yield env.timeout(interval)\n",
    "#         print(env.now, cluster.resource_utilization())"
   ]
  },
  {
   "cell_type": "code",
   "execution_count": null,
   "metadata": {},
   "outputs": [],
   "source": []
  },
  {
   "cell_type": "code",
   "execution_count": 187,
   "metadata": {},
   "outputs": [],
   "source": [
    "class ClusterMonitor(object):\n",
    "    def __init__(self, env, cluster):\n",
    "        self.env = env\n",
    "        self.cluster = cluster\n",
    "        env.process(self.monitor_resource_utilization())\n",
    "        env.process(self.monitor_job_slowdown())\n",
    "        \n",
    "    def monitor_resource_utilization(self, interval=10):\n",
    "        self.resource_utilization = 0\n",
    "        while True:\n",
    "            yield env.timeout(interval)\n",
    "            self.resource_utilization = cluster.resource_utilization()\n",
    "            print(env.now, self.get_resource_utilization(), self.get_average_job_slowdown())\n",
    "    \n",
    "    def monitor_job_slowdown(self, window=10):\n",
    "        self.job_reports = simpy.Store(env)\n",
    "        self.job_records = deque(maxlen=window)\n",
    "        self.total_jobs = 0\n",
    "        self.average_job_slowdown = 1.0\n",
    "        while True:\n",
    "            job_slowdown = yield self.job_reports.get()\n",
    "            self.job_records.append(job_slowdown)\n",
    "            \n",
    "    def get_resource_utilization(self):\n",
    "        return self.cluster.resource_utilization()\n",
    "    \n",
    "    def get_average_job_slowdown(self):\n",
    "        return np.average(self.job_records)\n",
    "    \n",
    "    def vectorize(self):\n",
    "        return np.array([self.get_resource_utilizaiton(), self.get_average_job_slowdown()])"
   ]
  },
  {
   "cell_type": "code",
   "execution_count": 188,
   "metadata": {},
   "outputs": [],
   "source": [
    "def test(env, cluster, cm, jq):\n",
    "    pm = cluster.physical_machines['pm-1']\n",
    "    yield env.timeout(1)\n",
    "    env.process(pm.add_container('S'))\n",
    "    yield env.timeout(1)\n",
    "    env.process(pm.add_container('XL'))\n",
    "    j1 = Job(5,95, jq)\n",
    "    j2 = Job(1,45, jq)\n",
    "    yield env.timeout(25)\n",
    "    \n",
    "    env.process(cluster.schedule_job(j1, 'pm-1', 'XL'))\n",
    "    yield env.timeout(35)\n",
    "    env.process(cluster.schedule_job(j2, 'pm-1', 'S'))\n",
    "    yield env.timeout(100)\n",
    "    env.process(pm.destroy_container('XL'))\n",
    "    yield env.timeout(10)\n",
    "    env.process(pm.destroy_container('S'))\n",
    "    yield env.timeout(100)\n",
    "\n"
   ]
  },
  {
   "cell_type": "code",
   "execution_count": 189,
   "metadata": {},
   "outputs": [
    {
     "ename": "TypeError",
     "evalue": "__init__() missing 1 required positional argument: 'job_generator'",
     "output_type": "error",
     "traceback": [
      "\u001b[0;31m---------------------------------------------------------------------------\u001b[0m",
      "\u001b[0;31mTypeError\u001b[0m                                 Traceback (most recent call last)",
      "\u001b[0;32m<ipython-input-189-9054212b47cc>\u001b[0m in \u001b[0;36m<module>\u001b[0;34m()\u001b[0m\n\u001b[1;32m      3\u001b[0m \u001b[0mlog\u001b[0m \u001b[0;34m=\u001b[0m \u001b[0mLog\u001b[0m\u001b[0;34m(\u001b[0m\u001b[0menv\u001b[0m\u001b[0;34m)\u001b[0m\u001b[0;34m\u001b[0m\u001b[0m\n\u001b[1;32m      4\u001b[0m \u001b[0mSIM_DURATION\u001b[0m \u001b[0;34m=\u001b[0m \u001b[0;36m300\u001b[0m\u001b[0;34m\u001b[0m\u001b[0m\n\u001b[0;32m----> 5\u001b[0;31m \u001b[0mcluster\u001b[0m \u001b[0;34m=\u001b[0m \u001b[0mCluster\u001b[0m\u001b[0;34m(\u001b[0m\u001b[0menv\u001b[0m\u001b[0;34m,\u001b[0m \u001b[0;36m2\u001b[0m\u001b[0;34m,\u001b[0m \u001b[0;36m32\u001b[0m\u001b[0;34m)\u001b[0m\u001b[0;34m\u001b[0m\u001b[0m\n\u001b[0m\u001b[1;32m      6\u001b[0m \u001b[0mcluster_monitor\u001b[0m \u001b[0;34m=\u001b[0m \u001b[0mClusterMonitor\u001b[0m\u001b[0;34m(\u001b[0m\u001b[0menv\u001b[0m\u001b[0;34m,\u001b[0m \u001b[0mcluster\u001b[0m\u001b[0;34m)\u001b[0m\u001b[0;34m\u001b[0m\u001b[0m\n\u001b[1;32m      7\u001b[0m \u001b[0menv\u001b[0m\u001b[0;34m.\u001b[0m\u001b[0mprocess\u001b[0m\u001b[0;34m(\u001b[0m\u001b[0mtest\u001b[0m\u001b[0;34m(\u001b[0m\u001b[0menv\u001b[0m\u001b[0;34m,\u001b[0m \u001b[0mcluster\u001b[0m\u001b[0;34m,\u001b[0m \u001b[0mcluster_monitor\u001b[0m\u001b[0;34m,\u001b[0m \u001b[0mlog\u001b[0m\u001b[0;34m)\u001b[0m\u001b[0;34m)\u001b[0m\u001b[0;34m\u001b[0m\u001b[0m\n",
      "\u001b[0;31mTypeError\u001b[0m: __init__() missing 1 required positional argument: 'job_generator'"
     ]
    }
   ],
   "source": [
    "\n",
    "env = simpy.Environment()\n",
    "log = Log(env)\n",
    "SIM_DURATION = 300\n",
    "cluster = Cluster(env, 2, 32)\n",
    "cluster_monitor = ClusterMonitor(env, cluster)\n",
    "env.process(test(env, cluster, cluster_monitor, log))\n",
    "env.run(until=SIM_DURATION)"
   ]
  },
  {
   "cell_type": "code",
   "execution_count": null,
   "metadata": {},
   "outputs": [],
   "source": [
    "env = simpy.E"
   ]
  },
  {
   "cell_type": "code",
   "execution_count": null,
   "metadata": {},
   "outputs": [],
   "source": []
  },
  {
   "cell_type": "code",
   "execution_count": null,
   "metadata": {},
   "outputs": [],
   "source": []
  },
  {
   "cell_type": "code",
   "execution_count": null,
   "metadata": {},
   "outputs": [],
   "source": []
  },
  {
   "cell_type": "code",
   "execution_count": null,
   "metadata": {},
   "outputs": [],
   "source": []
  },
  {
   "cell_type": "code",
   "execution_count": null,
   "metadata": {},
   "outputs": [],
   "source": []
  },
  {
   "cell_type": "code",
   "execution_count": null,
   "metadata": {},
   "outputs": [],
   "source": []
  },
  {
   "cell_type": "code",
   "execution_count": null,
   "metadata": {},
   "outputs": [],
   "source": []
  },
  {
   "cell_type": "code",
   "execution_count": null,
   "metadata": {},
   "outputs": [],
   "source": []
  },
  {
   "cell_type": "code",
   "execution_count": null,
   "metadata": {},
   "outputs": [],
   "source": []
  },
  {
   "cell_type": "code",
   "execution_count": null,
   "metadata": {},
   "outputs": [],
   "source": []
  },
  {
   "cell_type": "code",
   "execution_count": null,
   "metadata": {},
   "outputs": [],
   "source": []
  },
  {
   "cell_type": "code",
   "execution_count": null,
   "metadata": {},
   "outputs": [],
   "source": []
  },
  {
   "cell_type": "code",
   "execution_count": null,
   "metadata": {},
   "outputs": [],
   "source": []
  },
  {
   "cell_type": "code",
   "execution_count": null,
   "metadata": {},
   "outputs": [],
   "source": []
  },
  {
   "cell_type": "code",
   "execution_count": null,
   "metadata": {},
   "outputs": [],
   "source": []
  },
  {
   "cell_type": "code",
   "execution_count": null,
   "metadata": {},
   "outputs": [],
   "source": []
  },
  {
   "cell_type": "code",
   "execution_count": null,
   "metadata": {},
   "outputs": [],
   "source": []
  },
  {
   "cell_type": "code",
   "execution_count": null,
   "metadata": {},
   "outputs": [],
   "source": []
  },
  {
   "cell_type": "code",
   "execution_count": null,
   "metadata": {},
   "outputs": [],
   "source": []
  },
  {
   "cell_type": "code",
   "execution_count": null,
   "metadata": {},
   "outputs": [],
   "source": []
  },
  {
   "cell_type": "code",
   "execution_count": null,
   "metadata": {},
   "outputs": [],
   "source": []
  },
  {
   "cell_type": "code",
   "execution_count": null,
   "metadata": {},
   "outputs": [],
   "source": []
  },
  {
   "cell_type": "code",
   "execution_count": 15,
   "metadata": {},
   "outputs": [],
   "source": []
  },
  {
   "cell_type": "code",
   "execution_count": 18,
   "metadata": {},
   "outputs": [],
   "source": []
  },
  {
   "cell_type": "code",
   "execution_count": null,
   "metadata": {},
   "outputs": [],
   "source": []
  },
  {
   "cell_type": "code",
   "execution_count": null,
   "metadata": {},
   "outputs": [],
   "source": []
  },
  {
   "cell_type": "code",
   "execution_count": null,
   "metadata": {},
   "outputs": [],
   "source": []
  },
  {
   "cell_type": "code",
   "execution_count": null,
   "metadata": {},
   "outputs": [],
   "source": []
  }
 ],
 "metadata": {
  "kernelspec": {
   "display_name": "Python 3",
   "language": "python",
   "name": "python3"
  },
  "language_info": {
   "codemirror_mode": {
    "name": "ipython",
    "version": 3
   },
   "file_extension": ".py",
   "mimetype": "text/x-python",
   "name": "python",
   "nbconvert_exporter": "python",
   "pygments_lexer": "ipython3",
   "version": "3.6.4"
  }
 },
 "nbformat": 4,
 "nbformat_minor": 2
}
